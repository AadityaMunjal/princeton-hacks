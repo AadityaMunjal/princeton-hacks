{
 "cells": [
  {
   "cell_type": "code",
   "execution_count": null,
   "id": "46205f7d",
   "metadata": {},
   "outputs": [],
   "source": [
    "\n",
    "# Install necessary dependencies\n",
    "%pip install torch numpy\n"
   ]
  },
  {
   "cell_type": "code",
   "execution_count": null,
   "id": "9f4b4130",
   "metadata": {},
   "outputs": [],
   "source": [
    "# Import necessary libraries\n",
    "import torch\n",
    "import torch.nn as nn\n",
    "import torch.optim as optim\n",
    "from torch.utils.data import DataLoader, TensorDataset, random_split\n",
    "import numpy as np\n",
    "from params import DATALOADERS, LAYERS, ACTIVATIONS, LOSSES, OPTIMIZERS\n"
   ]
  },
  {
   "cell_type": "code",
   "execution_count": null,
   "id": "1a65cf1b",
   "metadata": {},
   "outputs": [],
   "source": [
    "class DynamicModel(nn.Module):\n",
    "    def __init__(self):\n",
    "        super().__init__()\n",
    "        layers_list = [\n",
    "            nn.Linear(8, 12),nn.ReLU(),nn.Linear(12, 8),nn.ReLU(),nn.Linear(8, 1),nn.Sigmoid(),\n",
    "        ]\n",
    "        self.layers = nn.ModuleList(layers_list)\n",
    "    def forward(self, x):\n",
    "        for l in self.layers:\n",
    "            x = l(x)\n",
    "\n",
    "        return x\n"
   ]
  },
  {
   "cell_type": "code",
   "execution_count": null,
   "id": "d577f710",
   "metadata": {},
   "outputs": [],
   "source": [
    "ds = DATALOADERS[\"pima\"]\n",
    "\n",
    "X = torch.tensor(ds[\"X\"], dtype=torch.float32)\n",
    "Y = torch.tensor(ds[\"y\"], dtype=torch.float32).reshape(-1, 1)\n",
    "\n",
    "model = DynamicModel()\n",
    "loss_fn = LOSSES[\"BCE\"]\n",
    "optimizer = OPTIMIZERS[\"Adam\"](\n",
    "    model.parameters(), 0.001\n",
    ")\n",
    "\n",
    "final_loss = -1\n"
   ]
  },
  {
   "cell_type": "code",
   "execution_count": null,
   "id": "c9c4590e",
   "metadata": {},
   "outputs": [],
   "source": [
    "# Training the model\n",
    "\n",
    "n_epochs = 100\n",
    "batch_size = 10\n",
    "\n",
    "for epoch in range(n_epochs):\n",
    "    for i in range(0, len(X), batch_size):\n",
    "        batchX = X[i : i + batch_size]\n",
    "        y_pred = model(batchX)\n",
    "        y_batch = Y[i : i + batch_size]\n",
    "        loss = loss_fn(y_pred, y_batch)\n",
    "        optimizer.zero_grad()\n",
    "        loss.backward()\n",
    "        optimizer.step()\n",
    "\n",
    "        final_loss = loss\n",
    "\n",
    "print(f\"Final loss: {final_loss}\")\n"
   ]
  },
  {
   "cell_type": "code",
   "execution_count": null,
   "id": "790bd7f4",
   "metadata": {},
   "outputs": [],
   "source": [
    "# Evaluating on test set\n",
    "model.eval()\n",
    "test_loss = 0.0\n",
    "with torch.no_grad():\n",
    "    for inputs, targets in test_loader:\n",
    "        outputs = model(inputs)\n",
    "        loss = criterion(outputs, targets)\n",
    "        test_loss += loss.item()\n",
    "\n",
    "print(f'\\nTest Loss: {test_loss/len(test_loader):.4f}')\n"
   ]
  }
 ],
 "metadata": {},
 "nbformat": 4,
 "nbformat_minor": 5
}
