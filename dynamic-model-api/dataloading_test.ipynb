{
 "cells": [
  {
   "cell_type": "code",
   "execution_count": 18,
   "metadata": {},
   "outputs": [],
   "source": [
    "import torch\n",
    "from torch import nn\n",
    "from torch import optim\n",
    "\n",
    "from torch.utils.data import Dataset\n",
    "from torchvision import datasets\n",
    "from torch.utils.data import DataLoader\n",
    "from torchvision import datasets, transforms\n",
    "from torchvision.transforms import ToTensor\n",
    "import matplotlib.pyplot as plt"
   ]
  },
  {
   "cell_type": "code",
   "execution_count": null,
   "metadata": {},
   "outputs": [
    {
     "name": "stdout",
     "output_type": "stream",
     "text": [
      "Downloading http://fashion-mnist.s3-website.eu-central-1.amazonaws.com/train-images-idx3-ubyte.gz\n",
      "Downloading http://fashion-mnist.s3-website.eu-central-1.amazonaws.com/train-images-idx3-ubyte.gz to data\\FashionMNIST\\raw\\train-images-idx3-ubyte.gz\n"
     ]
    },
    {
     "name": "stderr",
     "output_type": "stream",
     "text": [
      "100.0%\n"
     ]
    },
    {
     "name": "stdout",
     "output_type": "stream",
     "text": [
      "Extracting data\\FashionMNIST\\raw\\train-images-idx3-ubyte.gz to data\\FashionMNIST\\raw\n",
      "\n",
      "Downloading http://fashion-mnist.s3-website.eu-central-1.amazonaws.com/train-labels-idx1-ubyte.gz\n",
      "Downloading http://fashion-mnist.s3-website.eu-central-1.amazonaws.com/train-labels-idx1-ubyte.gz to data\\FashionMNIST\\raw\\train-labels-idx1-ubyte.gz\n"
     ]
    },
    {
     "name": "stderr",
     "output_type": "stream",
     "text": [
      "100.0%\n"
     ]
    },
    {
     "name": "stdout",
     "output_type": "stream",
     "text": [
      "Extracting data\\FashionMNIST\\raw\\train-labels-idx1-ubyte.gz to data\\FashionMNIST\\raw\n",
      "\n",
      "Downloading http://fashion-mnist.s3-website.eu-central-1.amazonaws.com/t10k-images-idx3-ubyte.gz\n",
      "Downloading http://fashion-mnist.s3-website.eu-central-1.amazonaws.com/t10k-images-idx3-ubyte.gz to data\\FashionMNIST\\raw\\t10k-images-idx3-ubyte.gz\n"
     ]
    },
    {
     "name": "stderr",
     "output_type": "stream",
     "text": [
      "100.0%\n"
     ]
    },
    {
     "name": "stdout",
     "output_type": "stream",
     "text": [
      "Extracting data\\FashionMNIST\\raw\\t10k-images-idx3-ubyte.gz to data\\FashionMNIST\\raw\n",
      "\n",
      "Downloading http://fashion-mnist.s3-website.eu-central-1.amazonaws.com/t10k-labels-idx1-ubyte.gz\n",
      "Downloading http://fashion-mnist.s3-website.eu-central-1.amazonaws.com/t10k-labels-idx1-ubyte.gz to data\\FashionMNIST\\raw\\t10k-labels-idx1-ubyte.gz\n"
     ]
    },
    {
     "name": "stderr",
     "output_type": "stream",
     "text": [
      "100.0%"
     ]
    },
    {
     "name": "stdout",
     "output_type": "stream",
     "text": [
      "Extracting data\\FashionMNIST\\raw\\t10k-labels-idx1-ubyte.gz to data\\FashionMNIST\\raw\n",
      "\n"
     ]
    },
    {
     "name": "stderr",
     "output_type": "stream",
     "text": [
      "\n"
     ]
    }
   ],
   "source": [
    "\n",
    "\n",
    "\n",
    "training_data = datasets.FashionMNIST(\n",
    "    root=\"data\",\n",
    "    train=True,\n",
    "    download=True,\n",
    "    transform=ToTensor()\n",
    ")\n",
    "\n",
    "test_data = datasets.FashionMNIST(\n",
    "    root=\"data\",\n",
    "    train=False,\n",
    "    download=True,\n",
    "    transform=ToTensor()\n",
    ")"
   ]
  },
  {
   "cell_type": "code",
   "execution_count": null,
   "metadata": {},
   "outputs": [
    {
     "name": "stdout",
     "output_type": "stream",
     "text": [
      "Using cuda device\n"
     ]
    }
   ],
   "source": [
    "# USING TORCH --> NEED DEVICE \n",
    "device = (\n",
    "    \"cuda\"\n",
    "    if torch.cuda.is_available()\n",
    "    else \"mps\"\n",
    "    if torch.backends.mps.is_available()\n",
    "    else \"cpu\"\n",
    ")\n",
    "print(f\"Using {device} device\")"
   ]
  },
  {
   "cell_type": "code",
   "execution_count": 20,
   "metadata": {},
   "outputs": [],
   "source": [
    "class NeuralNetwork(nn.Module):\n",
    "    def __init__(self):\n",
    "        super().__init__()\n",
    "        self.flatten = nn.Flatten() # required preprocessing of image data\n",
    "        self.linear_relu_stack = nn.Sequential(\n",
    "            nn.Linear(28*28, 512), # first fully connected layer, maps input (28*28 pixels = 784 pixels) to 512 hidden units\n",
    "            nn.ReLU(), # activation function\n",
    "            nn.Linear(512, 512), # second fully connected layer, maps 512 hidden units to 512 hidden units\n",
    "            nn.ReLU(), # activation function\n",
    "            nn.Linear(512, 10), # third fully connected layer, maps 512 hidden units to 10 output units\n",
    "        )\n",
    "\n",
    "    def forward(self, x):\n",
    "        x = self.flatten(x)\n",
    "        logits = self.linear_relu_stack(x)\n",
    "        return logits\n",
    "    \n",
    "# MOVE MODEL TO DEVICE\n",
    "model = NeuralNetwork().to(device)"
   ]
  },
  {
   "cell_type": "code",
   "execution_count": null,
   "metadata": {},
   "outputs": [],
   "source": [
    "# Define any necessary transformations\n",
    "transform = transforms.Compose([\n",
    "    transforms.ToTensor()\n",
    "])\n",
    "\n",
    "# CHOOSE DATASET\n",
    "# MNIST (1x28x28)\n",
    "train_dataset = datasets.MNIST(root=\"data\", train=True, transform=transform, download=True) # train dataset MNIST\n",
    "test_dataset = datasets.MNIST(root=\"data\", train=False, transform=transform, download=True) # validation dataset MNIST\n",
    "\n",
    "# # FashionMNIST (1x28x28) batch size = 64\n",
    "# train_loader = datasets.FashionMNIST(train_dataset, batch_size=64, shuffle=True) # train dataloader\n",
    "# test_loader = datasets.FashionMNIST(test_dataset, batch_size=64, shuffle=True) # validation dataloader\n",
    "\n",
    "# # CIFAR-10  (3x32x32) batxh size = 64\n",
    "# train_loader = datasets.CIFAR10(train_dataset, batch_size=64, shuffle=True) # train dataloader\n",
    "# test_loader = datasets.CIFAR10(test_dataset, batch_size=64, shuffle=True) # validation dataloader"
   ]
  },
  {
   "cell_type": "code",
   "execution_count": null,
   "metadata": {},
   "outputs": [],
   "source": [
    "# PICK BATCH SIZE. USE DATALOADER TO CREATE BATCHES\n",
    "train_loader = DataLoader(dataset=train_dataset, batch_size=32, shuffle=True)\n",
    "test_loader = DataLoader(dataset=test_dataset, batch_size=32, shuffle=True)\n"
   ]
  },
  {
   "cell_type": "code",
   "execution_count": null,
   "metadata": {},
   "outputs": [],
   "source": [
    "# CHOOSE LOSS FUNCTION\n",
    "# CHOOSE OPTIMIZER FUNCTION\n",
    "loss_fn = nn.CrossEntropyLoss()\n",
    "optimizer = optim.SGD(model.parameters(), lr=1e-3) # LATER --> CH0OSE LEARING RATE"
   ]
  },
  {
   "cell_type": "code",
   "execution_count": 22,
   "metadata": {},
   "outputs": [],
   "source": [
    "# training function\n",
    "def train(dataloader, model, loss_fn, optimizer):\n",
    "    size = len(dataloader.dataset)\n",
    "    model.train()\n",
    "    for batch, (X, y) in enumerate(dataloader):\n",
    "        X, y = X.to(device), y.to(device)\n",
    "\n",
    "        # Compute prediction error\n",
    "        pred = model(X)\n",
    "        loss = loss_fn(pred, y)\n",
    "\n",
    "        # Backpropagation\n",
    "        loss.backward()\n",
    "        optimizer.step()\n",
    "        optimizer.zero_grad()\n",
    "\n",
    "        if batch % 100 == 0:\n",
    "            loss, current = loss.item(), (batch + 1) * len(X)\n",
    "            print(f\"loss: {loss:>7f}  [{current:>5d}/{size:>5d}]\")"
   ]
  },
  {
   "cell_type": "code",
   "execution_count": null,
   "metadata": {},
   "outputs": [],
   "source": [
    "# testing function\n",
    "def test(dataloader, model, loss_fn):\n",
    "    size = len(dataloader.dataset)\n",
    "    num_batches = len(dataloader)\n",
    "    model.eval()\n",
    "    test_loss, correct = 0, 0\n",
    "    with torch.no_grad():\n",
    "        for X, y in dataloader:\n",
    "            X, y = X.to(device), y.to(device)\n",
    "            pred = model(X)\n",
    "            test_loss += loss_fn(pred, y).item()\n",
    "            correct += (pred.argmax(1) == y).type(torch.float).sum().item()\n",
    "    test_loss /= num_batches\n",
    "    correct /= size\n",
    "    print(f\"Test Error: \\n Accuracy: {(100*correct):>0.1f}%, Avg loss: {test_loss:>8f} \\n\")"
   ]
  },
  {
   "cell_type": "code",
   "execution_count": 24,
   "metadata": {},
   "outputs": [
    {
     "name": "stdout",
     "output_type": "stream",
     "text": [
      "Epoch 1\n",
      "-------------------------------\n",
      "loss: 2.300029  [   32/60000]\n",
      "loss: 2.305321  [ 3232/60000]\n",
      "loss: 2.295354  [ 6432/60000]\n",
      "loss: 2.290295  [ 9632/60000]\n",
      "loss: 2.282018  [12832/60000]\n",
      "loss: 2.275435  [16032/60000]\n",
      "loss: 2.264084  [19232/60000]\n",
      "loss: 2.256338  [22432/60000]\n",
      "loss: 2.270914  [25632/60000]\n",
      "loss: 2.255828  [28832/60000]\n",
      "loss: 2.260906  [32032/60000]\n",
      "loss: 2.241158  [35232/60000]\n",
      "loss: 2.230987  [38432/60000]\n",
      "loss: 2.234001  [41632/60000]\n",
      "loss: 2.222965  [44832/60000]\n",
      "loss: 2.214988  [48032/60000]\n",
      "loss: 2.205625  [51232/60000]\n",
      "loss: 2.203035  [54432/60000]\n",
      "loss: 2.206513  [57632/60000]\n",
      "Test Error: \n",
      " Accuracy: 53.4%, Avg loss: 2.189513 \n",
      "\n",
      "Epoch 2\n",
      "-------------------------------\n",
      "loss: 2.199641  [   32/60000]\n",
      "loss: 2.182333  [ 3232/60000]\n",
      "loss: 2.200078  [ 6432/60000]\n",
      "loss: 2.174893  [ 9632/60000]\n",
      "loss: 2.147201  [12832/60000]\n",
      "loss: 2.169989  [16032/60000]\n",
      "loss: 2.080072  [19232/60000]\n",
      "loss: 2.116182  [22432/60000]\n",
      "loss: 2.122827  [25632/60000]\n",
      "loss: 2.076064  [28832/60000]\n",
      "loss: 2.106221  [32032/60000]\n",
      "loss: 2.024147  [35232/60000]\n",
      "loss: 2.072937  [38432/60000]\n",
      "loss: 2.016841  [41632/60000]\n",
      "loss: 1.978478  [44832/60000]\n",
      "loss: 1.962898  [48032/60000]\n",
      "loss: 1.948578  [51232/60000]\n",
      "loss: 1.992974  [54432/60000]\n",
      "loss: 1.940734  [57632/60000]\n",
      "Test Error: \n",
      " Accuracy: 71.3%, Avg loss: 1.886698 \n",
      "\n",
      "Epoch 3\n",
      "-------------------------------\n",
      "loss: 1.869753  [   32/60000]\n",
      "loss: 1.818218  [ 3232/60000]\n",
      "loss: 1.697562  [ 6432/60000]\n",
      "loss: 1.898809  [ 9632/60000]\n",
      "loss: 1.783253  [12832/60000]\n",
      "loss: 1.880067  [16032/60000]\n",
      "loss: 1.770265  [19232/60000]\n",
      "loss: 1.716785  [22432/60000]\n",
      "loss: 1.644202  [25632/60000]\n",
      "loss: 1.635210  [28832/60000]\n",
      "loss: 1.617992  [32032/60000]\n",
      "loss: 1.523201  [35232/60000]\n",
      "loss: 1.612049  [38432/60000]\n",
      "loss: 1.562673  [41632/60000]\n",
      "loss: 1.424490  [44832/60000]\n",
      "loss: 1.429663  [48032/60000]\n",
      "loss: 1.378167  [51232/60000]\n",
      "loss: 1.336274  [54432/60000]\n",
      "loss: 1.365068  [57632/60000]\n",
      "Test Error: \n",
      " Accuracy: 77.7%, Avg loss: 1.283182 \n",
      "\n",
      "Epoch 4\n",
      "-------------------------------\n",
      "loss: 1.286396  [   32/60000]\n",
      "loss: 1.276648  [ 3232/60000]\n",
      "loss: 1.347358  [ 6432/60000]\n",
      "loss: 1.163621  [ 9632/60000]\n",
      "loss: 1.281356  [12832/60000]\n",
      "loss: 1.066022  [16032/60000]\n",
      "loss: 1.143756  [19232/60000]\n",
      "loss: 0.946466  [22432/60000]\n",
      "loss: 1.224350  [25632/60000]\n",
      "loss: 1.123056  [28832/60000]\n",
      "loss: 0.966488  [32032/60000]\n",
      "loss: 1.259475  [35232/60000]\n",
      "loss: 0.955560  [38432/60000]\n",
      "loss: 1.088009  [41632/60000]\n",
      "loss: 0.843659  [44832/60000]\n",
      "loss: 0.879818  [48032/60000]\n",
      "loss: 0.772545  [51232/60000]\n",
      "loss: 1.077603  [54432/60000]\n",
      "loss: 0.795997  [57632/60000]\n",
      "Test Error: \n",
      " Accuracy: 81.9%, Avg loss: 0.845286 \n",
      "\n",
      "Epoch 5\n",
      "-------------------------------\n",
      "loss: 0.596245  [   32/60000]\n",
      "loss: 0.631712  [ 3232/60000]\n",
      "loss: 0.726519  [ 6432/60000]\n",
      "loss: 0.771507  [ 9632/60000]\n",
      "loss: 0.795282  [12832/60000]\n",
      "loss: 0.689627  [16032/60000]\n",
      "loss: 0.774201  [19232/60000]\n",
      "loss: 0.777859  [22432/60000]\n",
      "loss: 0.728653  [25632/60000]\n",
      "loss: 0.737234  [28832/60000]\n",
      "loss: 0.721983  [32032/60000]\n",
      "loss: 0.731090  [35232/60000]\n",
      "loss: 0.813310  [38432/60000]\n",
      "loss: 0.849199  [41632/60000]\n",
      "loss: 0.908426  [44832/60000]\n",
      "loss: 0.558106  [48032/60000]\n",
      "loss: 0.608432  [51232/60000]\n",
      "loss: 0.600066  [54432/60000]\n",
      "loss: 1.011943  [57632/60000]\n",
      "Test Error: \n",
      " Accuracy: 84.8%, Avg loss: 0.645924 \n",
      "\n",
      "Done!\n"
     ]
    }
   ],
   "source": [
    "# Epoch Log / Training / Testing\n",
    "epochs = 5\n",
    "for t in range(epochs):\n",
    "    print(f\"Epoch {t+1}\\n-------------------------------\")\n",
    "    train(train_loader, model, loss_fn, optimizer)\n",
    "    test(test_loader, model, loss_fn)\n",
    "print(\"Done!\")"
   ]
  }
 ],
 "metadata": {
  "kernelspec": {
   "display_name": "ai_env",
   "language": "python",
   "name": "python3"
  },
  "language_info": {
   "codemirror_mode": {
    "name": "ipython",
    "version": 3
   },
   "file_extension": ".py",
   "mimetype": "text/x-python",
   "name": "python",
   "nbconvert_exporter": "python",
   "pygments_lexer": "ipython3",
   "version": "3.12.7"
  }
 },
 "nbformat": 4,
 "nbformat_minor": 2
}
